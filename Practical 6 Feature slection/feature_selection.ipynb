{
 "cells": [
  {
   "cell_type": "code",
   "execution_count": 1,
   "metadata": {},
   "outputs": [],
   "source": [
    "import pandas as pd\n",
    "import numpy as np\n",
    "\n",
    "from sklearn.datasets import fetch_openml"
   ]
  },
  {
   "cell_type": "markdown",
   "metadata": {},
   "source": [
    "Load boston dataset from sklearn library"
   ]
  },
  {
   "cell_type": "code",
   "execution_count": 2,
   "metadata": {},
   "outputs": [],
   "source": [
    "boston = fetch_openml(name='boston', version=1, parser='pandas')\n",
    "df = boston.data\n",
    "df['MEDV'] = boston.target\n",
    "df.head()"
   ]
  },
  {
   "cell_type": "code",
   "execution_count": null,
   "metadata": {},
   "outputs": [],
   "source": [
    "X = df.drop(columns=['MEDV']).apply(pd.to_numeric)\n",
    "y = df['MEDV'].apply(pd.to_numeric)"
   ]
  },
  {
   "cell_type": "markdown",
   "metadata": {},
   "source": [
    "Univariate Selection"
   ]
  },
  {
   "cell_type": "code",
   "execution_count": null,
   "metadata": {},
   "outputs": [
    {
     "name": "stdout",
     "output_type": "stream",
     "text": [
      "       cols      scores\n",
      "12    LSTAT  601.617871\n",
      "5        RM  471.846740\n",
      "10  PTRATIO  175.105543\n",
      "2     INDUS  153.954883\n",
      "9       TAX  141.761357\n",
      "4       NOX  112.591480\n",
      "0      CRIM   89.486115\n",
      "8       RAD   85.914278\n",
      "6       AGE   83.477459\n",
      "1        ZN   75.257642\n",
      "11        B   63.054229\n",
      "7       DIS   33.579570\n",
      "3      CHAS   15.971512\n",
      "Index(['INDUS', 'RM', 'TAX', 'PTRATIO', 'LSTAT'], dtype='object')\n"
     ]
    }
   ],
   "source": [
    "from sklearn.feature_selection import SelectKBest, f_regression\n",
    "\n",
    "selector = SelectKBest(score_func=f_regression, k=5)\n",
    "selector.fit_transform(X,y)\n",
    "\n",
    "selected_features = X.columns[selector.get_support()]\n",
    "\n",
    "sc = pd.DataFrame(data={'cols':X.columns, 'scores':selector.scores_})\n",
    "print(sc.sort_values(by='scores', ascending=False))\n",
    "\n",
    "print(selected_features)"
   ]
  },
  {
   "cell_type": "markdown",
   "metadata": {},
   "source": [
    "Bivariate Statistics: Filter Method"
   ]
  },
  {
   "cell_type": "code",
   "execution_count": null,
   "metadata": {},
   "outputs": [
    {
     "name": "stdout",
     "output_type": "stream",
     "text": [
      "MEDV       1.000000\n",
      "LSTAT      0.737663\n",
      "RM         0.695360\n",
      "PTRATIO    0.507787\n",
      "INDUS      0.483725\n",
      "TAX        0.468536\n",
      "NOX        0.427321\n",
      "CRIM       0.388305\n",
      "RAD        0.381626\n",
      "AGE        0.376955\n",
      "ZN         0.360445\n",
      "B          0.333461\n",
      "DIS        0.249929\n",
      "CHAS       0.175260\n",
      "Name: MEDV, dtype: float64\n",
      "Selected Features: \n",
      " MEDV       1.000000\n",
      "LSTAT      0.737663\n",
      "RM         0.695360\n",
      "PTRATIO    0.507787\n",
      "Name: MEDV, dtype: float64\n"
     ]
    }
   ],
   "source": [
    "cor = df.corr()['MEDV'].abs().sort_values(ascending=False)\n",
    "\n",
    "# Set a threshhold\n",
    "threshhold = 0.5\n",
    "selected_features = cor[cor>threshhold]\n",
    "print(cor)\n",
    "print(\"Selected Features: \\n\" , selected_features)"
   ]
  },
  {
   "cell_type": "code",
   "execution_count": null,
   "metadata": {},
   "outputs": [
    {
     "data": {
      "text/html": [
       "<div>\n",
       "<style scoped>\n",
       "    .dataframe tbody tr th:only-of-type {\n",
       "        vertical-align: middle;\n",
       "    }\n",
       "\n",
       "    .dataframe tbody tr th {\n",
       "        vertical-align: top;\n",
       "    }\n",
       "\n",
       "    .dataframe thead th {\n",
       "        text-align: right;\n",
       "    }\n",
       "</style>\n",
       "<table border=\"1\" class=\"dataframe\">\n",
       "  <thead>\n",
       "    <tr style=\"text-align: right;\">\n",
       "      <th></th>\n",
       "      <th>MEDV</th>\n",
       "      <th>LSTAT</th>\n",
       "      <th>RM</th>\n",
       "      <th>PTRATIO</th>\n",
       "    </tr>\n",
       "  </thead>\n",
       "  <tbody>\n",
       "    <tr>\n",
       "      <th>MEDV</th>\n",
       "      <td>1.000000</td>\n",
       "      <td>-0.737663</td>\n",
       "      <td>0.695360</td>\n",
       "      <td>-0.507787</td>\n",
       "    </tr>\n",
       "    <tr>\n",
       "      <th>LSTAT</th>\n",
       "      <td>-0.737663</td>\n",
       "      <td>1.000000</td>\n",
       "      <td>-0.613808</td>\n",
       "      <td>0.374044</td>\n",
       "    </tr>\n",
       "    <tr>\n",
       "      <th>RM</th>\n",
       "      <td>0.695360</td>\n",
       "      <td>-0.613808</td>\n",
       "      <td>1.000000</td>\n",
       "      <td>-0.355501</td>\n",
       "    </tr>\n",
       "    <tr>\n",
       "      <th>PTRATIO</th>\n",
       "      <td>-0.507787</td>\n",
       "      <td>0.374044</td>\n",
       "      <td>-0.355501</td>\n",
       "      <td>1.000000</td>\n",
       "    </tr>\n",
       "  </tbody>\n",
       "</table>\n",
       "</div>"
      ],
      "text/plain": [
       "             MEDV     LSTAT        RM   PTRATIO\n",
       "MEDV     1.000000 -0.737663  0.695360 -0.507787\n",
       "LSTAT   -0.737663  1.000000 -0.613808  0.374044\n",
       "RM       0.695360 -0.613808  1.000000 -0.355501\n",
       "PTRATIO -0.507787  0.374044 -0.355501  1.000000"
      ]
     },
     "execution_count": 109,
     "metadata": {},
     "output_type": "execute_result"
    }
   ],
   "source": [
    "new_df = df[selected_features.index]\n",
    "new_df.corr()"
   ]
  },
  {
   "cell_type": "markdown",
   "metadata": {},
   "source": [
    "<small>Since RM and LSTAT have high correlation between each other we can eliminate one of those having less correlation with target:RM  and we are left with only 2 features: LSTAT and PTRATIO </small>"
   ]
  },
  {
   "cell_type": "markdown",
   "metadata": {},
   "source": [
    "Wrapper Method: Backward Elimination"
   ]
  },
  {
   "cell_type": "code",
   "execution_count": null,
   "metadata": {},
   "outputs": [
    {
     "name": "stdout",
     "output_type": "stream",
     "text": [
      "                            OLS Regression Results                            \n",
      "==============================================================================\n",
      "Dep. Variable:                   MEDV   R-squared:                       0.741\n",
      "Model:                            OLS   Adj. R-squared:                  0.734\n",
      "Method:                 Least Squares   F-statistic:                     108.1\n",
      "Date:                Sun, 02 Jun 2024   Prob (F-statistic):          6.72e-135\n",
      "Time:                        21:12:11   Log-Likelihood:                -1498.8\n",
      "No. Observations:                 506   AIC:                             3026.\n",
      "Df Residuals:                     492   BIC:                             3085.\n",
      "Df Model:                          13                                         \n",
      "Covariance Type:            nonrobust                                         \n",
      "==============================================================================\n",
      "                 coef    std err          t      P>|t|      [0.025      0.975]\n",
      "------------------------------------------------------------------------------\n",
      "const         36.4595      5.103      7.144      0.000      26.432      46.487\n",
      "CRIM          -0.1080      0.033     -3.287      0.001      -0.173      -0.043\n",
      "ZN             0.0464      0.014      3.382      0.001       0.019       0.073\n",
      "INDUS          0.0206      0.061      0.334      0.738      -0.100       0.141\n",
      "CHAS           2.6867      0.862      3.118      0.002       0.994       4.380\n",
      "NOX          -17.7666      3.820     -4.651      0.000     -25.272     -10.262\n",
      "RM             3.8099      0.418      9.116      0.000       2.989       4.631\n",
      "AGE            0.0007      0.013      0.052      0.958      -0.025       0.027\n",
      "DIS           -1.4756      0.199     -7.398      0.000      -1.867      -1.084\n",
      "RAD            0.3060      0.066      4.613      0.000       0.176       0.436\n",
      "TAX           -0.0123      0.004     -3.280      0.001      -0.020      -0.005\n",
      "PTRATIO       -0.9527      0.131     -7.283      0.000      -1.210      -0.696\n",
      "B              0.0093      0.003      3.467      0.001       0.004       0.015\n",
      "LSTAT         -0.5248      0.051    -10.347      0.000      -0.624      -0.425\n",
      "==============================================================================\n",
      "Omnibus:                      178.041   Durbin-Watson:                   1.078\n",
      "Prob(Omnibus):                  0.000   Jarque-Bera (JB):              783.126\n",
      "Skew:                           1.521   Prob(JB):                    8.84e-171\n",
      "Kurtosis:                       8.281   Cond. No.                     1.51e+04\n",
      "==============================================================================\n",
      "\n",
      "Notes:\n",
      "[1] Standard Errors assume that the covariance matrix of the errors is correctly specified.\n",
      "[2] The condition number is large, 1.51e+04. This might indicate that there are\n",
      "strong multicollinearity or other numerical problems.\n",
      "Remaining Features after Backward Elimination:  Index(['const', 'CRIM', 'ZN', 'CHAS', 'NOX', 'RM', 'DIS', 'RAD', 'TAX',\n",
      "       'PTRATIO', 'B', 'LSTAT'],\n",
      "      dtype='object')\n"
     ]
    }
   ],
   "source": [
    "import statsmodels.api as sm\n",
    "\n",
    "# Add a constant column to the features\n",
    "X_with_const = sm.add_constant(X)\n",
    "\n",
    "# Fit the model with all features\n",
    "model = sm.OLS(y, X_with_const).fit()\n",
    "print(model.summary())\n",
    "\n",
    "# Perform backward elimination\n",
    "while len(model.pvalues[model.pvalues > 0.05]) > 0:\n",
    "    feature_to_remove = model.pvalues[model.pvalues > 0.05].idxmax()\n",
    "    X_with_const = X_with_const.drop(columns=[feature_to_remove])\n",
    "    model = sm.OLS(y, X_with_const).fit()\n",
    "\n",
    "print(\"Remaining Features after Backward Elimination: \", X_with_const.columns)\n"
   ]
  },
  {
   "cell_type": "code",
   "execution_count": null,
   "metadata": {},
   "outputs": [],
   "source": []
  },
  {
   "cell_type": "markdown",
   "metadata": {},
   "source": [
    "RFE: Recursive Feature Elimination"
   ]
  },
  {
   "cell_type": "code",
   "execution_count": null,
   "metadata": {},
   "outputs": [
    {
     "name": "stdout",
     "output_type": "stream",
     "text": [
      "Selected Features using RFE:  Index(['CHAS', 'NOX', 'RM', 'DIS', 'RAD', 'PTRATIO', 'LSTAT'], dtype='object')\n"
     ]
    }
   ],
   "source": [
    "from sklearn.feature_selection import RFE\n",
    "from sklearn.linear_model import LinearRegression\n",
    "\n",
    "# Instantiate a linear regression model\n",
    "model = LinearRegression()\n",
    "\n",
    "# Apply RFE\n",
    "rfe = RFE(model, n_features_to_select=7)\n",
    "rfe_model = rfe.fit(X, y)\n",
    "\n",
    "# Get selected features\n",
    "selected_features = X.columns[rfe_model.support_]\n",
    "\n",
    "print(\"Selected Features using RFE: \", selected_features)"
   ]
  },
  {
   "cell_type": "markdown",
   "metadata": {},
   "source": [
    "Embedded Method"
   ]
  },
  {
   "cell_type": "code",
   "execution_count": null,
   "metadata": {},
   "outputs": [
    {
     "name": "stdout",
     "output_type": "stream",
     "text": [
      "Selected Features using Embedded Method (Lasso):  Index(['CRIM', 'ZN', 'INDUS', 'CHAS', 'RM', 'AGE', 'DIS', 'RAD', 'TAX',\n",
      "       'PTRATIO', 'B', 'LSTAT'],\n",
      "      dtype='object')\n"
     ]
    }
   ],
   "source": [
    "from sklearn.linear_model import Lasso\n",
    "from sklearn.feature_selection import SelectFromModel\n",
    "\n",
    "# Instantiate a Lasso model\n",
    "lasso = Lasso(alpha=0.1)\n",
    "\n",
    "# Fit the model\n",
    "lasso.fit(X, y)\n",
    "\n",
    "# Use SelectFromModel to select features\n",
    "model = SelectFromModel(lasso, prefit=True)\n",
    "selected_features = X.columns[(model.get_support())]\n",
    "\n",
    "print(\"Selected Features using Embedded Method (Lasso): \", selected_features)"
   ]
  },
  {
   "cell_type": "markdown",
   "metadata": {},
   "source": []
  }
 ],
 "metadata": {
  "kernelspec": {
   "display_name": "base",
   "language": "python",
   "name": "python3"
  },
  "language_info": {
   "codemirror_mode": {
    "name": "ipython",
    "version": 3
   },
   "file_extension": ".py",
   "mimetype": "text/x-python",
   "name": "python",
   "nbconvert_exporter": "python",
   "pygments_lexer": "ipython3",
   "version": "3.11.1"
  }
 },
 "nbformat": 4,
 "nbformat_minor": 2
}
